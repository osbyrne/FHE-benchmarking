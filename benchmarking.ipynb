{
 "cells": [
  {
   "cell_type": "markdown",
   "metadata": {},
   "source": [
    "# FHE libraries benchmarking"
   ]
  },
  {
   "cell_type": "code",
   "execution_count": 3,
   "metadata": {},
   "outputs": [],
   "source": [
    "import time  # Pour mesurer le temps d'exécution"
   ]
  },
  {
   "cell_type": "markdown",
   "metadata": {},
   "source": [
    "## Concrete"
   ]
  },
  {
   "cell_type": "markdown",
   "metadata": {},
   "source": []
  },
  {
   "cell_type": "code",
   "execution_count": 1,
   "metadata": {},
   "outputs": [],
   "source": [
    "from concrete import fhe\n",
    "from typing import Final, List\n",
    "import time\n",
    "import matplotlib.pyplot as plt\n",
    "\n",
    "def add(x: int, y: int) -> int:\n",
    "    return x + y\n",
    "\n",
    "def multiply(x: int, y: int) -> int:\n",
    "    return x * y\n",
    "\n",
    "input_sizes: Final[List[int]] = [5, 10, 50, 100, 500, 1000, 5000, 10000, 50000, 100000] # Varying input sizes in log scale\n",
    "num_runs: Final[int] = 10  # Number of times to run the test for each input size\n",
    "\n",
    "encrypt_time: List[int] = []\n",
    "add_execution_times: List[int] = []\n",
    "multiply_execution_times: List[int] = []\n",
    "decrypt_time: List[int] = []"
   ]
  },
  {
   "cell_type": "markdown",
   "metadata": {},
   "source": [
    "## Measuring encryption times"
   ]
  },
  {
   "cell_type": "code",
   "execution_count": null,
   "metadata": {},
   "outputs": [],
   "source": [
    "encrypt_time = []\n",
    "\n",
    "for size in input_sizes:\n",
    "    start_time = time.time()\n",
    "\n",
    "    \n",
    "    \n",
    "    end_time = time.time()\n",
    "    elapsed_time = end_time - start_time\n",
    "    encrypt_time.append(elapsed_time)\n",
    "\n",
    "plt.plot(input_sizes, encrypt_time)\n",
    "plt.xlabel('Input Size')\n",
    "plt.ylabel('Encryption Time (s)')\n",
    "plt.title('Encryption Time vs Input Size')\n",
    "plt.show()"
   ]
  }
 ],
 "metadata": {
  "kernelspec": {
   "display_name": "Python 3",
   "language": "python",
   "name": "python3"
  },
  "language_info": {
   "codemirror_mode": {
    "name": "ipython",
    "version": 3
   },
   "file_extension": ".py",
   "mimetype": "text/x-python",
   "name": "python",
   "nbconvert_exporter": "python",
   "pygments_lexer": "ipython3",
   "version": "3.10.12"
  }
 },
 "nbformat": 4,
 "nbformat_minor": 2
}
